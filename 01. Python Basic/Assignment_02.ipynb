{
 "cells": [
  {
   "cell_type": "markdown",
   "metadata": {},
   "source": [
    "### PYTHON BASIC ASSIGNMENT 2"
   ]
  },
  {
   "cell_type": "markdown",
   "metadata": {},
   "source": [
    "1.What are the two values of the Boolean data type? How do you write them?<br/>\n",
    "Ans.<br/>\n",
    "The two values of Boolean data type are TRUE and FALSE. They are written as True and False in python."
   ]
  },
  {
   "cell_type": "markdown",
   "metadata": {},
   "source": [
    "2.What are the three different types of Boolean operators?<br/>\n",
    "Ans.<br/>\n",
    "The three different types of boolean operators are AND, OR and NOT. They are written as and, or & not in python."
   ]
  },
  {
   "cell_type": "markdown",
   "metadata": {},
   "source": [
    "3.Make a list of each Boolean operator's truth tables (i.e. every possible combination of Boolean\n",
    "values for the operator and what it evaluate ).<br/>\n",
    "Ans.<br/>\n",
    "i) AND operator<br/>\n",
    "| Boolean value A | Boolean value B | Result |\n",
    "|-----------------|-----------------|--------|\n",
    "| True            | True            | True   |\n",
    "| True            | False           | False  |\n",
    "| False           | True            | False  |\n",
    "| False           | False           | False  |\n",
    "\n",
    "ii) OR operator<br/>\n",
    "| Boolean value A | Boolean value B | Result |\n",
    "|-----------------|-----------------|--------|\n",
    "| True            | True            | True   |\n",
    "| True            | False           | True   |\n",
    "| False           | True            | True   |\n",
    "| False           | False           | False  |\n",
    "\n",
    "iii) NOT operator<br/>\n",
    "| Boolean value | Result |\n",
    "|---------------|--------|\n",
    "| True          | False  |\n",
    "| False         | True   |\n",
    "\n"
   ]
  },
  {
   "cell_type": "markdown",
   "metadata": {},
   "source": [
    "4. What are the values of the following expressions?<br/>\n",
    "i) (5 &gt; 4) and (3 == 5)<br/>\n",
    "Ans. False <br/>\n",
    "ii) not (5 &gt; 4)<br/>\n",
    "Ans. False<br/>\n",
    "iii) (5 &gt; 4) or (3 == 5)<br/>\n",
    "Ans. True<br/>\n",
    "iv) not ((5 &gt; 4) or (3 == 5))<br/>\n",
    "Ans. False<br/>\n",
    "v) (True and True) and (True == False)<br/>\n",
    "Ans. False<br/>\n",
    "vi) (not False) or (not True)<br/>\n",
    "Ans. True<br/>"
   ]
  },
  {
   "cell_type": "markdown",
   "metadata": {},
   "source": [
    "5.What are the six comparison operators?<br/>\n",
    "Ans.<br/>\n",
    "The six comparison operators are:<br/>\n",
    "i) Less than ( < )<br/>\n",
    "ii) Less than or equal to (<=)<br/>\n",
    "iii) Greater than (>)<br/>\n",
    "iv) Greater than or equal to (>=)<br/>\n",
    "v) Equal to ( == )<br/>\n",
    "vi) Not equal to ( != )<br/>"
   ]
  },
  {
   "cell_type": "markdown",
   "metadata": {},
   "source": [
    "6.How do you tell the difference between the equal to and assignment operators? Describe a\n",
    "condition and when you would use one.<br/>\n",
    "Ans.<br/>\n",
    "The '=' is the so-called assignment operator and is used to assign the result of the expression on the right side of the operator to the variable on the left side.<br/>\n",
    "Example.<br/>\n",
    "a = 5<br/>\n",
    "print(a)<br/>\n",
    "The above code will print 5.<br/>\n",
    "\n",
    "The '==' is the so-called equality comparison operator and is used to check whether the two expressions on both sides are equal or not.<br/>\n",
    "Example.<br/>\n",
    "a = 5<br/>\n",
    "print(a==5)<br/>\n",
    "The above code will print True.\n"
   ]
  },
  {
   "cell_type": "markdown",
   "metadata": {},
   "source": [
    "7.Identify the three blocks in this code:<br/>\n",
    "Ans."
   ]
  },
  {
   "cell_type": "code",
   "execution_count": 1,
   "metadata": {},
   "outputs": [
    {
     "name": "stdout",
     "output_type": "stream",
     "text": [
      "ham\n",
      "spam\n",
      "spam\n"
     ]
    }
   ],
   "source": [
    "spam = 0                                    #First block\n",
    "if spam == 10:                              #Second block\n",
    "    print('eggs')                           #Second block\n",
    "if spam > 5:                                #Third block\n",
    "    print('bacon')                          #Third block\n",
    "else:                                       #Third block\n",
    "    print('ham')                            #Third block\n",
    "    print('spam')                           #Third block\n",
    "    print('spam')                           #Third block"
   ]
  },
  {
   "cell_type": "markdown",
   "metadata": {},
   "source": [
    "8.Write code that prints Hello if 1 is stored in spam, prints Howdy if 2 is stored in spam, and prints\n",
    "Greetings! if anything else is stored in spam.<br/>"
   ]
  },
  {
   "cell_type": "code",
   "execution_count": 3,
   "metadata": {
    "scrolled": false
   },
   "outputs": [
    {
     "name": "stdout",
     "output_type": "stream",
     "text": [
      "2\n",
      "Howdy\n"
     ]
    }
   ],
   "source": [
    "spam = input()\n",
    "if int(spam) == 1:\n",
    "    print('Hello')\n",
    "elif int(spam) == 2:\n",
    "    print('Howdy')\n",
    "else:\n",
    "    print('Greetings!')"
   ]
  },
  {
   "cell_type": "markdown",
   "metadata": {},
   "source": [
    "9.If your programme is stuck in an endless loop, what keys you’ll press?<br/>\n",
    "Ans.<br/>\n",
    "To stop an endless loop, 'I' key is pressed twice. This interrupts the kernel and the running code is stopped."
   ]
  },
  {
   "cell_type": "markdown",
   "metadata": {},
   "source": [
    "10.How can you tell the difference between break and continue?<br/>\n",
    "Ans.<br/>\n",
    "The break statement allows you to exit a loop when a condition is met.The loop stops running at all after the break statement. The continue statement allows you to skip part of a loop when a condition is met. Then next step of loop starts running instead of running the remaining part of the code after continue statement."
   ]
  },
  {
   "cell_type": "markdown",
   "metadata": {},
   "source": [
    "11.In a for loop, what is the difference between range(10), range(0, 10), and range(0, 10, 1)?<br/>\n",
    "Ans.<br/>\n",
    "There is no difference between range(10), range(0, 10), and range(0, 10, 1). All three of them returns a sequence of numbers, starting from 0, and increments by 1, and stops before 10."
   ]
  },
  {
   "cell_type": "markdown",
   "metadata": {},
   "source": [
    "12.Write a short program that prints the numbers 1 to 10 using a for loop. Then write an equivalent\n",
    "program that prints the numbers 1 to 10 using a while loop.<br/>\n",
    "Ans."
   ]
  },
  {
   "cell_type": "code",
   "execution_count": 6,
   "metadata": {},
   "outputs": [
    {
     "name": "stdout",
     "output_type": "stream",
     "text": [
      "1\n",
      "2\n",
      "3\n",
      "4\n",
      "5\n",
      "6\n",
      "7\n",
      "8\n",
      "9\n",
      "10\n"
     ]
    }
   ],
   "source": [
    "for i in range(1,11):\n",
    "    print(i)"
   ]
  },
  {
   "cell_type": "code",
   "execution_count": 10,
   "metadata": {},
   "outputs": [
    {
     "name": "stdout",
     "output_type": "stream",
     "text": [
      "1\n",
      "2\n",
      "3\n",
      "4\n",
      "5\n",
      "6\n",
      "7\n",
      "8\n",
      "9\n",
      "10\n"
     ]
    }
   ],
   "source": [
    "i=1\n",
    "while(i<=10):\n",
    "    print(i)\n",
    "    i+=1"
   ]
  },
  {
   "cell_type": "markdown",
   "metadata": {},
   "source": [
    "13.If you had a function named bacon() inside a module named spam, how would you call it after\n",
    "importing spam?<br/>\n",
    "Ans.<br/>\n",
    "spam.bacon()"
   ]
  }
 ],
 "metadata": {
  "interpreter": {
   "hash": "923b0f57c0913c8d6ed9e8c73b9b74196cc2ac09746ccb4d8e1745ac648d43ff"
  },
  "kernelspec": {
   "display_name": "Python 3",
   "language": "python",
   "name": "python3"
  },
  "language_info": {
   "codemirror_mode": {
    "name": "ipython",
    "version": 3
   },
   "file_extension": ".py",
   "mimetype": "text/x-python",
   "name": "python",
   "nbconvert_exporter": "python",
   "pygments_lexer": "ipython3",
   "version": "3.8.8"
  }
 },
 "nbformat": 4,
 "nbformat_minor": 2
}
