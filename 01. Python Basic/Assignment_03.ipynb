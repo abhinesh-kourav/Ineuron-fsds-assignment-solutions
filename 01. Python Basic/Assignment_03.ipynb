{
 "cells": [
  {
   "cell_type": "markdown",
   "metadata": {},
   "source": [
    "## PYTHON BASIC ASSIGNMENT 3"
   ]
  },
  {
   "cell_type": "markdown",
   "metadata": {},
   "source": [
    "1.Why are functions advantageous to have in your programs?<br/>\n",
    "Ans.<br/>\n",
    "It helps to divide the large programs into small groups so that we can read the code, and debug the program faster and better.<br/>\n",
    "Python Functions stop us from writing the same logic various times. We can bind the logic in one function and then call the same over and over.<br/>\n",
    "Many persons can work on the same program by assigning different functions to each of them.<br/>\n",
    "It encourages us to call the same function with different inputs over multiple times."
   ]
  },
  {
   "cell_type": "markdown",
   "metadata": {},
   "source": [
    "2.When does the code in a function run: when it&#39;s specified or when it&#39;s called?<br/>\n",
    "Ans.<br/>\n",
    "The code in a function runs when it is called and not when it is specified."
   ]
  },
  {
   "cell_type": "markdown",
   "metadata": {},
   "source": [
    "3.What statement creates a function?<br/>\n",
    "Ans.<br/>\n",
    "def statement creates a function.<br/>\n",
    "For example,<br/>\n",
    "def addition(a,b):<br/>\n",
    "The above statement will create a function named addition which will include the code indented below that statement.\n"
   ]
  },
  {
   "cell_type": "markdown",
   "metadata": {},
   "source": [
    "4.What is the difference between a function and a function call?<br/>\n",
    "Ans.<br/>\n",
    "A function is a block of code that does a particular operation and returns a result. It usually accepts inputs as parameters and returns a result. The parameters are not mandatory.<br/>\n",
    "For example,<br/>\n",
    "def add(a,b):<br/>\n",
    "&emsp; return a + b\n",
    "\n",
    "A function call is the code used to pass control to a function.<br/>\n",
    "For example,<br/>\n",
    "b = add(5,6)<br/>\n",
    "Now b will have the value 11."
   ]
  },
  {
   "cell_type": "markdown",
   "metadata": {},
   "source": [
    "5.How many global scopes are there in a Python program? How many local scopes?<br>\n",
    "Ans.<br>\n",
    "There's only one global Python scope per program execution.<br>\n",
    "There can be multiple local scopes in a python programme."
   ]
  },
  {
   "cell_type": "markdown",
   "metadata": {},
   "source": [
    "6.What happens to variables in a local scope when the function call returns?<br>\n",
    "Ans.<br>\n",
    "A local variable becomes undefined after the function call completes."
   ]
  },
  {
   "cell_type": "markdown",
   "metadata": {},
   "source": [
    "7.What is the concept of a return value? Is it possible to have a return value in an expression?<br/>\n",
    "Ans.<br/>\n",
    "A return value is a value that a function returns to the calling script or function when it completes its task.<br/>\n",
    "Yes, it is possible to have a return value in an expression since it has a defined datatype and not Nonetype."
   ]
  },
  {
   "cell_type": "markdown",
   "metadata": {},
   "source": [
    "8.If a function does not have a return statement, what is the return value of a call to that function?<br/>\n",
    "Ans.<br/>\n",
    "The return value of a call to a function will be None, if that function does not have a return statement. The datatype of the call function will be NoneType."
   ]
  },
  {
   "cell_type": "markdown",
   "metadata": {},
   "source": [
    "9.How do you make a function variable refer to the global variable?<br>\n",
    "Ans.<br>\n",
    "We can use 'global' keyword before the variable name at start of function."
   ]
  },
  {
   "cell_type": "markdown",
   "metadata": {},
   "source": [
    "10.What is the data type of None?<br/>\n",
    "Ans.<br/>\n",
    "The datatype of None is NoneType."
   ]
  },
  {
   "cell_type": "markdown",
   "metadata": {},
   "source": [
    "11.What does the sentence import areallyourpetsnamederic do?<br>\n",
    "Ans.<br>\n",
    "It would import the module named areallyourpetsmanederic if it is present in your python. Otherwise, it will throw an error like<br>\n",
    "No module named 'areallyourpetsnamederic'"
   ]
  },
  {
   "cell_type": "markdown",
   "metadata": {},
   "source": [
    "12.If you had a bacon() feature in a spam module, what would you call it after importing spam?<br>\n",
    "Ans.<br>\n",
    "spam.bacon()"
   ]
  },
  {
   "cell_type": "markdown",
   "metadata": {},
   "source": [
    "13.What can you do to save a programme from crashing if it encounters an error?<br/>\n",
    "Ans.<br>\n",
    "We can use try and except clauses to protect the programme from crashing when it encouters an error."
   ]
  },
  {
   "cell_type": "markdown",
   "metadata": {},
   "source": [
    "14.What is the purpose of the try clause? What is the purpose of the except clause?<br>\n",
    "Ans.<br>\n",
    "Try and Except statement is used to handle errors within our code in Python. The try block is used to check some code for errors i.e the code inside the try block will execute when there is no error in the program. Whereas the code inside the except block will execute whenever the program encounters some error in the preceding try block."
   ]
  }
 ],
 "metadata": {
  "kernelspec": {
   "display_name": "Python 3.9.7 ('base')",
   "language": "python",
   "name": "python3"
  },
  "language_info": {
   "codemirror_mode": {
    "name": "ipython",
    "version": 3
   },
   "file_extension": ".py",
   "mimetype": "text/x-python",
   "name": "python",
   "nbconvert_exporter": "python",
   "pygments_lexer": "ipython3",
   "version": "3.9.7"
  },
  "orig_nbformat": 4,
  "vscode": {
   "interpreter": {
    "hash": "ab04f8e61828bbd163a587ab9425264e4dde0d8f29fcdd9b827a77050867f641"
   }
  }
 },
 "nbformat": 4,
 "nbformat_minor": 2
}
