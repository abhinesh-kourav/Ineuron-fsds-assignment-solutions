{
 "cells": [
  {
   "cell_type": "markdown",
   "metadata": {},
   "source": [
    "## PYTHON BASIC ASSIGNMENT 5"
   ]
  },
  {
   "cell_type": "markdown",
   "metadata": {},
   "source": [
    "1.What does an empty dictionary&#39;s code look like?<br>\n",
    "Ans.<br>\n",
    "`{}`"
   ]
  },
  {
   "cell_type": "markdown",
   "metadata": {},
   "source": [
    "2.What is the value of a dictionary value with the key &#39;foo&#39; and the value 42?<br>\n",
    "Ans.<br>\n",
    "`{'foo': 42}`"
   ]
  },
  {
   "cell_type": "markdown",
   "metadata": {},
   "source": [
    "3.What is the most significant distinction between a dictionary and a list?<br>\n",
    "Ans.<br>\n",
    "A list is an ordered sequence of objects, whereas dictionaries are unordered sets. However, the main difference is that items in dictionaries are accessed via keys and not via their position."
   ]
  },
  {
   "cell_type": "markdown",
   "metadata": {},
   "source": [
    "4.What happens if you try to access spam[&#39;foo&#39;] if spam is {&#39;bar&#39;: 100}?<br>\n",
    "Ans.<br>\n",
    "`KeyError: 'foo'`<br>\n",
    "We get this error because there is no key named 'foo' in spam dictionary."
   ]
  },
  {
   "cell_type": "markdown",
   "metadata": {},
   "source": [
    "5.If a dictionary is stored in spam, what is the difference between the expressions &#39;cat&#39; in spam and\n",
    "&#39;cat&#39; in spam.keys()?<br>\n",
    "Ans.<br>\n",
    "There is no difference.<br>\n",
    "Both of the expression checks whether there is a key named 'cat' in the spam dictionary."
   ]
  },
  {
   "cell_type": "markdown",
   "metadata": {},
   "source": [
    "6.If a dictionary is stored in spam, what is the difference between the expressions &#39;cat&#39; in spam and\n",
    "&#39;cat&#39; in spam.values()?<br>\n",
    "Ans.<br>\n",
    "`'cat' in spam` checks if there is a 'cat' in all the keys present in spam dictionary.<br>`'cat' in spam.values()` checks if there is a 'cat' in all the values present in spam dictionary."
   ]
  },
  {
   "cell_type": "markdown",
   "metadata": {},
   "source": [
    "7.What is a shortcut for the following code?<br>\n",
    "`if 'color' not in spam:`<br>\n",
    "&ensp; &ensp; &ensp;`spam['color'] = 'black'`<br>\n",
    "Ans.<br>\n",
    "`spam.setdefault('color','black')`"
   ]
  },
  {
   "cell_type": "markdown",
   "metadata": {},
   "source": [
    "8.How do you &quot;pretty print&quot; dictionary values using which module and function?<br>\n",
    "Ans.<br>\n",
    "Module - pprint<br>\n",
    "Function - pprint()<br>\n",
    "`from pprint import pprint`<br>\n",
    "`pprint(spam)`"
   ]
  }
 ],
 "metadata": {
  "language_info": {
   "name": "python"
  },
  "orig_nbformat": 4
 },
 "nbformat": 4,
 "nbformat_minor": 2
}
