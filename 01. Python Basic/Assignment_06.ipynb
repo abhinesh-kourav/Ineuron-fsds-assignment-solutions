{
 "cells": [
  {
   "cell_type": "markdown",
   "metadata": {},
   "source": [
    "## PYTHON BASIC ASSIGNMENT 6"
   ]
  },
  {
   "cell_type": "markdown",
   "metadata": {},
   "source": [
    "1.What are escape characters, and how do you use them?<br>\n",
    "Ans.<br>\n",
    "Escape characters are not visibly present in the string but allow us to include special characters in string. We use them by prefixing a backslash `\\` with the character we need to escape.  "
   ]
  },
  {
   "cell_type": "markdown",
   "metadata": {},
   "source": [
    "2.What do the escape characters n and t stand for?<br>\n",
    "Ans.<br>\n",
    "\\n refers to new line.<br>\n",
    "\\t refers to vertical tab."
   ]
  },
  {
   "cell_type": "markdown",
   "metadata": {},
   "source": [
    "3.What is the way to include backslash characters in a string?<br>\n",
    "Ans.<br>\n",
    "Use the syntax `\\\\` to include backslash characters in a string."
   ]
  },
  {
   "cell_type": "markdown",
   "metadata": {},
   "source": [
    "4.The string &quot;Howl&#39;s Moving Castle&quot; is a correct value. Why isn&#39;t the single quote character in the\n",
    "word Howl&#39;s not escaped a problem?<br>\n",
    "Ans.<br>\n",
    "It is because we used double to define it as a string. If we have used single quotes to define it as string as in<br>\n",
    "`'Howl's Moving Castle'`<br>\n",
    "it would have created a problem."
   ]
  },
  {
   "cell_type": "markdown",
   "metadata": {},
   "source": [
    "5.How do you write a string of newlines if you don&#39;t want to use the n character?<br>\n",
    "Ans.<br>\n",
    "We can use multiline strings."
   ]
  },
  {
   "cell_type": "code",
   "execution_count": 2,
   "metadata": {},
   "outputs": [
    {
     "name": "stdout",
     "output_type": "stream",
     "text": [
      "The quick brown fox\n",
      "jumps over the\n",
      "lazy dog\n"
     ]
    }
   ],
   "source": [
    "string = \"\"\"The quick brown fox\n",
    "jumps over the\n",
    "lazy dog\"\"\"\n",
    "print(string)"
   ]
  },
  {
   "cell_type": "markdown",
   "metadata": {},
   "source": [
    "6.What are the values of the given expressions?<br>\n",
    "Ans.<br>\n",
    "`'Hello, world!'[1]`   ->  'e'<br>\n",
    "`'Hello, world!'[0:5]` -> 'Hello'?<br>\n",
    "`'Hello, world!'[:5]`  -> 'Hello'<br>\n",
    "`'Hello, world!'[3:]`  -> 'lo, world!'<br>"
   ]
  },
  {
   "cell_type": "markdown",
   "metadata": {},
   "source": [
    "7.What are the values of the following expressions?<br>\n",
    "Ans. <br>\n",
    "`'Hello'.upper()`   -> 'HELLO'<br>\n",
    "`'Hello'.upper().isupper()`     -> True<br>\n",
    "`'Hello'.upper().lower()`   ->  'hello'<br>"
   ]
  },
  {
   "cell_type": "markdown",
   "metadata": {},
   "source": [
    "8.What are the values of the following expressions?<br>\n",
    "Ans.<br>\n",
    "`'Remember, remember, the fifth of July.'.split()`   -> ['Remember,', 'remember,', 'the', 'fifth', 'of', 'July.']<br>\n",
    "`'-'.join('There can only one.'.split())` -> 'There-can-only-one.'<br>"
   ]
  },
  {
   "cell_type": "markdown",
   "metadata": {},
   "source": [
    "9.What are the methods for right-justifying, left-justifying, and centering a string?<br>\n",
    "Ans.<br>\n",
    "`rjust(), ljust(), center()` respectively."
   ]
  },
  {
   "cell_type": "markdown",
   "metadata": {},
   "source": [
    "10.What is the best way to remove whitespace characters from the start or end?<br>\n",
    "Ans.<br>\n",
    "`strip()`"
   ]
  }
 ],
 "metadata": {
  "kernelspec": {
   "display_name": "Python 3.9.7 ('base')",
   "language": "python",
   "name": "python3"
  },
  "language_info": {
   "codemirror_mode": {
    "name": "ipython",
    "version": 3
   },
   "file_extension": ".py",
   "mimetype": "text/x-python",
   "name": "python",
   "nbconvert_exporter": "python",
   "pygments_lexer": "ipython3",
   "version": "3.9.7"
  },
  "orig_nbformat": 4,
  "vscode": {
   "interpreter": {
    "hash": "ab04f8e61828bbd163a587ab9425264e4dde0d8f29fcdd9b827a77050867f641"
   }
  }
 },
 "nbformat": 4,
 "nbformat_minor": 2
}
