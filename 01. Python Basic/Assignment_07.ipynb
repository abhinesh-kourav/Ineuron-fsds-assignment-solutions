{
 "cells": [
  {
   "cell_type": "markdown",
   "metadata": {},
   "source": [
    "## PYTHON BASIC ASSIGNMENT 7"
   ]
  },
  {
   "cell_type": "markdown",
   "metadata": {},
   "source": [
    "1.What is the name of the feature responsible for generating Regex objects?<br>\n",
    "Ans.<br>\n",
    "The `re.compile()` function returns Regex objects."
   ]
  },
  {
   "cell_type": "markdown",
   "metadata": {},
   "source": [
    "2.Why do raw strings often appear in Regex objects?<br>\n",
    "Ans.<br>\n",
    "Raw strings keeps regular expressions meaningful and confusion-free. Without it, every backslash `\\` in a regular expression would have to be prefixed with another one to escape it."
   ]
  },
  {
   "cell_type": "markdown",
   "metadata": {},
   "source": [
    "3.What is the return value of the search() method?<br>\n",
    "Ans.<br>\n",
    "The `re.search()` function takes two parameters and returns a match object if there is a match. If there is more than one match, only the first occurrence of the match will be returned. If no matches are found, the value None is returned."
   ]
  },
  {
   "cell_type": "markdown",
   "metadata": {},
   "source": [
    "4.From a Match item, how do you get the actual strings that match the pattern?<br>\n",
    "Ans.<br>\n",
    "The `group()` method returns strings of the matched text."
   ]
  },
  {
   "cell_type": "markdown",
   "metadata": {},
   "source": [
    "5.In the regex which created from the r&#39;(\\d\\d\\d)-(\\d\\d\\d-\\d\\d\\d\\d)&#39;, what does group zero cover?\n",
    "Group 2? Group 1?<br>\n",
    "Ans.<br>\n",
    "Group 0 is the entire match, group 1 covers the first set of parentheses, and group 2 covers the second set of parentheses."
   ]
  },
  {
   "cell_type": "markdown",
   "metadata": {},
   "source": [
    "6.In standard expression syntax, parentheses and intervals have distinct meanings. How can you tell\n",
    "a regex that you want it to fit real parentheses and periods?<br>\n",
    "Ans.<br>\n",
    "Periods and parentheses can be escaped with a backslash: `\\.`, `\\(`, and `\\)`."
   ]
  },
  {
   "cell_type": "markdown",
   "metadata": {},
   "source": [
    "7.The findall() method returns a list of strings or a list of tuples of strings. What makes it return one or the other?<br>\n",
    "Ans.<br>\n",
    "If the regex has no groups, a list of strings is returned. If the regex has groups, a list of tuples of strings is returned."
   ]
  },
  {
   "cell_type": "markdown",
   "metadata": {},
   "source": [
    "8.In standard expressions, what does the | character mean?<br>\n",
    "Ans.<br>\n",
    "The` | `character signifies matching \"either, or\" between two groups."
   ]
  },
  {
   "cell_type": "markdown",
   "metadata": {},
   "source": [
    "9.In regular expressions, what does the ? character stand for?<br>\n",
    "Ans.<br>\n",
    "The `?` character can either mean \"match zero or one of the preceding group\" or be used to signify nongreedy matching.\n"
   ]
  },
  {
   "cell_type": "markdown",
   "metadata": {},
   "source": [
    "10.In regular expressions, what is the difference between the + and * characters?<br>\n",
    "Ans.<br>\n",
    "The `+` matches one or more. The `*` matches zero or more.\n"
   ]
  },
  {
   "cell_type": "markdown",
   "metadata": {},
   "source": [
    "11.What is the difference between {4} and {4,5} in regular expression?<br>\n",
    "Ans.<br>\n",
    "`{4}` matches exactly four instances of the preceding group.`{4,5}` matches between four to five instances."
   ]
  },
  {
   "cell_type": "markdown",
   "metadata": {},
   "source": [
    "12.What do you mean by the \\d, \\w, and \\s shorthand character classes signify in regular\n",
    "expressions?<br>\n",
    "Ans.<br>\n",
    "The `\\d`, `\\w`, and `\\s` shorthand character classes match a single digit, word, or space character, respectively."
   ]
  },
  {
   "cell_type": "markdown",
   "metadata": {},
   "source": [
    "13.What do means by \\D, \\W, and \\S shorthand character classes signify in regular expressions?<br>\n",
    "Ans.<br>\n",
    "The `\\D`, `\\W`, and `\\S` shorthand character classes match a single character that is not a digit, word, or space character, respectively."
   ]
  },
  {
   "cell_type": "markdown",
   "metadata": {},
   "source": [
    "14.What is the difference between .*? and .*?<br>\n",
    "Ans. <br>\n",
    "The `.` performs a greedy match, and the `.?` performs a nongreedy match."
   ]
  },
  {
   "cell_type": "markdown",
   "metadata": {},
   "source": [
    "15.What is the syntax for matching both numbers and lowercase letters with a character class?<br>\n",
    "Ans.<br>\n",
    "Either `[0-9a-z]` or `[a-z0-9]`"
   ]
  },
  {
   "cell_type": "markdown",
   "metadata": {},
   "source": [
    "16.What is the procedure for making a normal expression in regax case insensitive?<br>\n",
    "Ans.<br>\n",
    "Passing `re.I` or `re.IGNORECASE` as the second argument to re.compile() will make the matching case insensitive."
   ]
  },
  {
   "cell_type": "markdown",
   "metadata": {},
   "source": [
    "17.What does the . character normally match? What does it match if re.DOTALL is passed as 2nd\n",
    "argument in re.compile()?<br>\n",
    "Ans.<br>\n",
    "The `.` character normally matches any character except the newline character. If `re.DOTALL` is passed as the second argument to `re.compile()`, then the dot will also match newline characters."
   ]
  },
  {
   "cell_type": "markdown",
   "metadata": {},
   "source": [
    "18.If numReg = re.compile(r&#39;\\d+&#39;), what will numRegex.sub(&#39;X&#39;, &#39;11 drummers, 10 pipers, five rings, 4\n",
    "hen&#39;) return?<br>\n",
    "Ans.<br>\n",
    "`'X drummers, X pipers, five rings, X hens'`"
   ]
  },
  {
   "cell_type": "markdown",
   "metadata": {},
   "source": [
    "19.What does passing re.VERBOSE as the 2nd argument to re.compile() allow to do?<br>\n",
    "Ans.<br>\n",
    "The `re.VERBOSE` argument allows you to add whitespace and comments to the string passed to `re.compile()`."
   ]
  },
  {
   "cell_type": "markdown",
   "metadata": {},
   "source": [
    "20.How would you write a regex that match a number with comma for every three digits? It must\n",
    "match the given following:<br>\n",
    "&#39;42&#39;<br>\n",
    "&#39;1,234&#39;<br>\n",
    "&#39;6,368,745&#39;<br>\n",
    "but not the following:<br>\n",
    "&#39;12,34,567&#39; (which has only two digits between the commas)<br>\n",
    "&#39;1234&#39; (which lacks commas)<br>\n",
    "Ans.<br>\n",
    "`re.compile(r'^\\d{1,3}(,\\d{3})*$')` will create this regex, but other regex strings can produce a similar regular expression."
   ]
  },
  {
   "cell_type": "markdown",
   "metadata": {},
   "source": [
    "21.How would you write a regex that matches the full name of someone whose last name is\n",
    "Watanabe? You can assume that the first name that comes before it will always be one word that\n",
    "begins with a capital letter. The regex must match the following:<br>\n",
    "&#39;Haruto Watanabe&#39;<br>\n",
    "&#39;Alice Watanabe&#39;<br>\n",
    "&#39;RoboCop Watanabe&#39;<br>\n",
    "but not the following:<br>\n",
    "&#39;haruto Watanabe&#39; (where the first name is not capitalized)<br>\n",
    "&#39;Mr. Watanabe&#39; (where the preceding word has a nonletter character)<br>\n",
    "&#39;Watanabe&#39; (which has no first name)<br>\n",
    "&#39;Haruto watanabe&#39; (where Watanabe is not capitalized)<br>\n",
    "Ans.\n",
    "`re.compile(r'[A-Z][a-z]*\\sWatanabe')`"
   ]
  },
  {
   "cell_type": "markdown",
   "metadata": {},
   "source": [
    "22.How would you write a regex that matches a sentence where the first word is either Alice, Bob,\n",
    "or Carol; the second word is either eats, pets, or throws; the third word is apples, cats, or baseballs;\n",
    "and the sentence ends with a period? This regex should be case-insensitive. It must match the\n",
    "following:<br>\n",
    "&#39;Alice eats apples.&#39;<br>\n",
    "&#39;Bob pets cats.&#39;<br>\n",
    "&#39;Carol throws baseballs.&#39;<br>\n",
    "&#39;Alice throws Apples.&#39;<br>\n",
    "&#39;BOB EATS CATS.&#39;<br>\n",
    "but not the following:<br>\n",
    "&#39;RoboCop eats apples.&#39;<br>\n",
    "&#39;ALICE THROWS FOOTBALLS.&#39;<br>\n",
    "&#39;Carol eats 7 cats.&#39;<br>\n",
    "Ans.<br>\n",
    "`re.compile(r'(Alice|Bob|Carol)\\s(eats|pets|throws)\\s(apples|cats|baseballs)\\.', re.IGNORECASE)`"
   ]
  },
  {
   "cell_type": "markdown",
   "metadata": {},
   "source": []
  }
 ],
 "metadata": {
  "kernelspec": {
   "display_name": "Python 3.9.7 ('base')",
   "language": "python",
   "name": "python3"
  },
  "language_info": {
   "name": "python",
   "version": "3.9.7"
  },
  "orig_nbformat": 4,
  "vscode": {
   "interpreter": {
    "hash": "ab04f8e61828bbd163a587ab9425264e4dde0d8f29fcdd9b827a77050867f641"
   }
  }
 },
 "nbformat": 4,
 "nbformat_minor": 2
}
