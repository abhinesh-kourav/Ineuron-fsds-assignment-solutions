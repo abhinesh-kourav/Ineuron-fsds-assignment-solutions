{
 "cells": [
  {
   "cell_type": "markdown",
   "metadata": {},
   "source": [
    "## PYTHON BASIC ASSIGNMENT 9"
   ]
  },
  {
   "cell_type": "markdown",
   "metadata": {},
   "source": [
    "1.To what does a relative path refer?<br>\n",
    "Ans.<br>\n",
    "A relative path that depicts the location of a file or folder is relative to the current working directory."
   ]
  },
  {
   "cell_type": "markdown",
   "metadata": {},
   "source": [
    "2.What does an absolute path start with your operating system?<br>\n",
    "Ans.<br>\n",
    "It starts with home directory of a system. In my operating system it starts with `C:` drive\n"
   ]
  },
  {
   "cell_type": "markdown",
   "metadata": {},
   "source": [
    "3.What do the functions `os.getcwd()` and `os.chdir()` do?<br>\n",
    "Ans.<br>\n",
    "`os.getcwd()` method is used in Python to get the current directory. `os.chdir()` is used to change the current directory."
   ]
  },
  {
   "cell_type": "markdown",
   "metadata": {},
   "source": [
    "4.What are the `.` and `..` folders?<br>\n",
    "Ans.<br>\n",
    "Directory `.` represents the current directory, it is a way to reference files and directories using a relative path. E.g. ./subdir1/subdir2/somefile<br>\n",
    "`..` is a way to reference the parent directory. E.g. ../../etc/cron.d."
   ]
  },
  {
   "cell_type": "markdown",
   "metadata": {},
   "source": [
    "5.In `C:\\bacon\\eggs\\spam.txt`, which part is the dir name, and which part is the base name?<br>\n",
    "Ans.<br>\n",
    "`C:\\bacon\\eggs` is the dir name, while `spam.txt` is the base name."
   ]
  },
  {
   "cell_type": "markdown",
   "metadata": {},
   "source": [
    "6.What are the three “mode” arguments that can be passed to the open() function?<br>\n",
    "Ans.<br>\n",
    "The string `'r'` for read mode, `'w'` for write mode, and `'a'` for append mode."
   ]
  },
  {
   "cell_type": "markdown",
   "metadata": {},
   "source": [
    "7.What happens if an existing file is opened in write mode?<br>\n",
    "Ans.<br>\n",
    "An existing file opened in write mode is erased and completely overwritten."
   ]
  },
  {
   "cell_type": "markdown",
   "metadata": {},
   "source": [
    "8.How do you tell the difference between read() and readlines()?<br>\n",
    "Ans<br>\n",
    "The `read()` method returns the file's entire contents as a single string value.<br>The `readlines()` method returns a list of strings, where each string is a line from the file's contents."
   ]
  },
  {
   "cell_type": "markdown",
   "metadata": {},
   "source": [
    "9.What data structure does a shelf value resemble?<br>\n",
    "Ans.<br>\n",
    "A shelf value resembles a dictionary value; it has keys and values, along with keys() and values() methods that work similarly to the dictionary methods of the same names."
   ]
  }
 ],
 "metadata": {
  "language_info": {
   "name": "python"
  },
  "orig_nbformat": 4
 },
 "nbformat": 4,
 "nbformat_minor": 2
}
