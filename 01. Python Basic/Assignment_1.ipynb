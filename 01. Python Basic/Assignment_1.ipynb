{
 "cells": [
  {
   "cell_type": "markdown",
   "metadata": {},
   "source": [
    "## PYTHON BASIC ASSIGNMENT 1"
   ]
  },
  {
   "cell_type": "markdown",
   "metadata": {},
   "source": [
    "1. In the below elements which of them are values or an expression? eg:- values can be\n",
    "integer or string and expressions will be mathematical operators.<br/>\n",
    "Ans.<br/>\n",
    "\\*&emsp;&emsp;&emsp;&emsp;&emsp;&emsp;Expression  <br/>\n",
    "'hello'&emsp;&emsp;&emsp;&emsp;Value     <br/>\n",
    "-87.8&emsp;&emsp;&emsp;&emsp;Value   <br/>\n",
    "\\-&emsp;&emsp;&emsp;&emsp;&emsp;&emsp;Expression  <br/>\n",
    "\\/&emsp;&emsp;&emsp;&emsp;&emsp;&emsp;Expression  <br/>\n",
    "\\+&emsp;&emsp;&emsp;&emsp;&emsp;&emsp;Expression  <br/>\n",
    "6&emsp;&emsp;&emsp;&emsp;&emsp;&emsp;Value   "
   ]
  },
  {
   "cell_type": "markdown",
   "metadata": {},
   "source": [
    "2. What is the difference between string and variable?<br/>\n",
    "Ans.<br/>\n",
    "    String is a datatype which contains a sequence of characters. String is surrounded by '' or \"\". Whereas, variable is a memory location where values with different datatypes are stored. Hence, A variable can be used to store a string also."
   ]
  },
  {
   "cell_type": "markdown",
   "metadata": {},
   "source": [
    "3. Describe three different data types.<br/>\n",
    "Ans.<br/>\n",
    "    Integers – This value is represented by int class. It contains positive or negative whole numbers (without fraction or decimal). In Python, there is no limit to how long an integer value can be.<br/>\n",
    "    Float – This value is represented by float class. It is a real number with floating point representation. It is specified by a decimal point. Optionally, the character e or E followed by a positive or negative integer may be appended to specify scientific notation.<br/>\n",
    "    Complex Numbers – Complex number is represented by complex class. It is specified as (real part) + (imaginary part)j. For example – 2+3j"
   ]
  },
  {
   "cell_type": "markdown",
   "metadata": {},
   "source": [
    "4. What is an expression made up of? What do all expressions do?<br/>\n",
    "Ans.<br/>\n",
    "An expression is made up of values, variables, operators, and calls to functions. Expressions are used to evaluate a mathematical problem and displays the solved result."
   ]
  },
  {
   "cell_type": "markdown",
   "metadata": {},
   "source": [
    "5. This assignment statements, like spam = 10. What is the difference between an\n",
    "expression and a statement?<br/>\n",
    "Ans.<br/>\n",
    "An expression is a combination of values, variables, and operators. If you type an expression on the command line, the interpreter evaluates it and displays the result. On the other hand, an assignment statement is used to store a value like integer or string in a variable."
   ]
  },
  {
   "cell_type": "markdown",
   "metadata": {},
   "source": [
    "6. After running the following code, what does the variable bacon contain?<br/>\n",
    "bacon = 22<br/>\n",
    "bacon + 1<br/>\n",
    "Ans.<br/>\n",
    "The  value stored in variable bacon is 22."
   ]
  },
  {
   "cell_type": "markdown",
   "metadata": {},
   "source": [
    "7. What should the values of the following two terms be?<br/>\n",
    "'spam' + 'spamspam'<br/>\n",
    "'spam' * 3<br/>\n",
    "Ans.<br/>\n",
    "The value of first term will be 'spamspamspam'<br/>\n",
    "The value of second term will be 'spamspamspam'"
   ]
  },
  {
   "cell_type": "markdown",
   "metadata": {},
   "source": [
    "8. Why is eggs a valid variable name while 100 is invalid?<br/>\n",
    "Ans.<br/>\n",
    "Python allows us to name variables to your liking, as long as the names follow these rules: Variable names may contain letters, digits (0-9) or the underscore character _ . Variable names must begin with a letter from A-Z or the underscore _ character. Either lowercase or uppercase letters are acceptable. Therefore, eggs is a valid variable name while 100 is not."
   ]
  },
  {
   "cell_type": "markdown",
   "metadata": {},
   "source": [
    "9. What three functions can be used to get the integer, floating-point number, or string\n",
    "version of a value?<br/>\n",
    "Ans.<br/>\n",
    "int() function is used to get the integer version of a value.<br/>\n",
    "float() function is used to get floating-point number of a value.<br/>\n",
    "str() function is used to get string version of a value.<br/>"
   ]
  },
  {
   "cell_type": "markdown",
   "metadata": {},
   "source": [
    "10. Why does this expression cause an error? How can you fix it?<br/>\n",
    "'I have eaten ' + 99 + ' burritos.'<br/>\n",
    "Ans.<br/>\n",
    "This expression is causing an error because the expression is trying to concatenate an integer with strings which is not allowed in Python.<br/>\n",
    "This problem can be fixed by using str() function as:<br/>\n",
    "'I have eaten ' + str(99) + ' burritos.'<br/>\n",
    "This problem can be fixed by enclosing the integer 99 in single quotation marks or double quotation marks like '99' or \"99\" as:<br/>\n",
    "'I have eaten ' + '99' + ' burritos.'<br/>\n"
   ]
  }
 ],
 "metadata": {
  "language_info": {
   "name": "python"
  },
  "orig_nbformat": 4
 },
 "nbformat": 4,
 "nbformat_minor": 2
}
