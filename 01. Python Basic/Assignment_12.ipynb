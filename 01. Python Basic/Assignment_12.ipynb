{
 "cells": [
  {
   "cell_type": "markdown",
   "metadata": {},
   "source": [
    "## PYTHON BASIC ASSIGNMENT 12"
   ]
  },
  {
   "cell_type": "markdown",
   "metadata": {},
   "source": [
    "1.In what modes should the PdfFileReader() and PdfFileWriter() File objects will be opened?<br>\n",
    "Ans.<br>\n",
    "PdfFileReader() needs to be opened in read-binary mode by passing 'rb' as the second argument to open(). Likewise, the File object passed to PyPDF2. PdfFileWriter() needs to be opened in write-binary mode with 'wb'."
   ]
  },
  {
   "cell_type": "markdown",
   "metadata": {},
   "source": [
    "2.From a PdfFileReader object, how do you get a Page object for page 5?<br>\n",
    "Ans.<br>"
   ]
  },
  {
   "cell_type": "code",
   "execution_count": 1,
   "metadata": {},
   "outputs": [
    {
     "name": "stdout",
     "output_type": "stream",
     "text": [
      " Table of Contents\n",
      "Preface. . . . . . . . . . . . . . . . . . . . . . . . . . . . . . . . . . . . . . . . . . . . . . . . . . . . . . . . . . . . . . . . . . . . . .   xiii\n",
      "Part I. The Fundamentals of Machine Learning\n",
      "1.The Machine Learning Landscape. . . . . . . . . . . . . . . . . . . . . . . . . . . . . . . . . . . . . . . . . . . . .   3\n",
      "What Is M\n",
      "achine Learning?                                                                                            4\n",
      "Why Use Machine Learning?                                                                                          4\n",
      "Types of Machine Learning Systems                                                                             7\n",
      "Supervised/Unsupervised Learning                                                                           8\n",
      "Batch and Online Learning                                                                                       14\n",
      "Instance-Based Versus Model-Based Learning                                                      17\n",
      "Main Challenges of Machine Learning                                                                       22\n",
      "Insufficient Quantity of Training Data                                                                    22\n",
      "Nonrepresentative Training Data                                                                             24\n",
      "Poor-Quality Data                                                                                                      25\n",
      "Irrelevant Features                                                                                                      25\n",
      "Overfitting the Training Data                                                                                   26\n",
      "Underfitting the Training Data                                                                                 28\n",
      "Stepping Back                                                                                                              28\n",
      "Testing and Validating                                                                                                   29\n",
      "Exercises                                                                                                                           31\n",
      "2.End-to-End Machine Learning Project. . . . . . . . . . . . . . . . . . . . . . . . . . . . . . . . . . . . . . . .   33\n",
      "Working with Real Data                                                                                                \n",
      "33\n",
      "Look at the Big Picture                                                                                                  35\n",
      "Frame the Problem                                                                                                     35\n",
      "Select a Performance Measure                                                                                  37\n",
      "iii\n",
      "\n"
     ]
    },
    {
     "name": "stderr",
     "output_type": "stream",
     "text": [
      "c:\\Users\\Abhinesh\\anaconda3\\lib\\site-packages\\PyPDF2\\_cmap.py:122: PdfReadWarning: Advanced encoding /UniGB-UTF16-H not implemented yet\n",
      "  warnings.warn(\n",
      "c:\\Users\\Abhinesh\\anaconda3\\lib\\site-packages\\PyPDF2\\_page.py:1276: PdfReadWarning:  impossible to decode XFormObject /Fm0\n",
      "  warnings.warn(\n"
     ]
    }
   ],
   "source": [
    "import PyPDF2 as pdf\n",
    "pdfFile = open('Hands on Machine Learning with Scikit Learn and TensorFlow.pdf','rb')\n",
    "pdfReader = pdf.PdfFileReader(pdfFile)\n",
    "page = pdfReader.getPage(4) #5th page has index 4\n",
    "print(page.extractText())"
   ]
  },
  {
   "cell_type": "markdown",
   "metadata": {},
   "source": [
    "3.What PdfFileReader variable stores the number of pages in the PDF document?<br>\n",
    "Ans.<br>\n",
    "`numPages`"
   ]
  },
  {
   "cell_type": "markdown",
   "metadata": {},
   "source": [
    "4.If a PdfFileReader object’s PDF is encrypted with the password swordfish, what must you do\n",
    "before you can obtain Page objects from it?<br>\n",
    "Ans.<br>\n",
    "Before we obtain the page object, the pdf has to be decrypted by calling .decrypt('swordfish')"
   ]
  },
  {
   "cell_type": "markdown",
   "metadata": {},
   "source": [
    "5.What methods do you use to rotate a page?<br>\n",
    "Ans<br>\n",
    "`rotateClockwise()` and `rotateCounterClockwise()` methods."
   ]
  },
  {
   "cell_type": "markdown",
   "metadata": {},
   "source": [
    "6.What is the difference between a Run object and a Paragraph object?<br>\n",
    "Ans<br>\n",
    "Paragraph Object : A document contains multiple paragraphs. A paragraph begins on a new line and contains multiple runs.The Document object contains a list of Paragraph objects for the paragraphs in the document. (A new paragraph begins whenever the user presses ENTER or RETURN while typing in a Word document.)<br>\n",
    "Run Objects : Runs are contiguous groups of characters within a paragraph with the same style.\n"
   ]
  },
  {
   "cell_type": "markdown",
   "metadata": {},
   "source": [
    "7.How do you obtain a list of Paragraph objects for a Document object that’s stored in a variable named doc?<br>\n",
    "Ans.<br>\n",
    "`import docx`<br>\n",
    "`doc = docx.Document('Resume.docx')`<br>\n",
    "`print(doc.paragraphs)`"
   ]
  },
  {
   "cell_type": "markdown",
   "metadata": {},
   "source": [
    "8.What type of object has bold, underline, italic, strike, and outline variables?<br>\n",
    "Ans.<br>\n",
    "A Run object has bold, underline,italic,strike and outline variables."
   ]
  },
  {
   "cell_type": "markdown",
   "metadata": {},
   "source": [
    "9.What is the difference between False, True, and None for the bold variable?<br>\n",
    "Ans.<br>\n",
    "True means the bold property is “on”, False means it is “off” and None value means “inherit”."
   ]
  },
  {
   "cell_type": "markdown",
   "metadata": {},
   "source": [
    "10.How do you create a Document object for a new Word document?<br>\n",
    "Ans.<br>\n",
    "By Calling the docx.Document() function."
   ]
  },
  {
   "cell_type": "markdown",
   "metadata": {},
   "source": [
    "11.How do you add a paragraph with the text &#39;Hello, there!&#39; to a Document object stored in a\n",
    "variable named doc?<br>\n",
    "Ans.<br>\n",
    "`doc = docx.Document()`\n",
    "\n",
    "`doc.add_paragraph('Hello there!')`<br>\n",
    "`doc.save('hellothere.docx')`<br>"
   ]
  },
  {
   "cell_type": "markdown",
   "metadata": {},
   "source": [
    "12.What integers represent the levels of headings available in Word documents?<br>\n",
    "Ans<br>\n",
    "Integers from 0 to 4.<br>\n",
    "The arguments to add_heading() are a string of the heading text and an integer from 0 to 4. The integer 0 makes the heading the Title style, which is used for the top of the document. Integers 1 to 4 are for various heading levels, with 1 being the main heading and 4 the lowest subheading.\n"
   ]
  }
 ],
 "metadata": {
  "kernelspec": {
   "display_name": "Python 3.9.7 ('base')",
   "language": "python",
   "name": "python3"
  },
  "language_info": {
   "codemirror_mode": {
    "name": "ipython",
    "version": 3
   },
   "file_extension": ".py",
   "mimetype": "text/x-python",
   "name": "python",
   "nbconvert_exporter": "python",
   "pygments_lexer": "ipython3",
   "version": "3.9.7"
  },
  "orig_nbformat": 4,
  "vscode": {
   "interpreter": {
    "hash": "ab04f8e61828bbd163a587ab9425264e4dde0d8f29fcdd9b827a77050867f641"
   }
  }
 },
 "nbformat": 4,
 "nbformat_minor": 2
}
