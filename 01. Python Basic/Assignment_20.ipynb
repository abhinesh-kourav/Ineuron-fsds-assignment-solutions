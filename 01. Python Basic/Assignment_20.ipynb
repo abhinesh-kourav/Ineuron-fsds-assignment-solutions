{
 "cells": [
  {
   "cell_type": "markdown",
   "metadata": {},
   "source": [
    "## PYTHON ASSIGNMENT 20"
   ]
  },
  {
   "cell_type": "markdown",
   "metadata": {},
   "source": [
    "1. Set the variable test1 to the string &#39;This is a test of the emergency text system,&#39; and save test1 to a\n",
    "file named test.txt."
   ]
  },
  {
   "cell_type": "code",
   "execution_count": 13,
   "metadata": {},
   "outputs": [],
   "source": [
    "test1 = 'This is a test of the emergency text system'\n",
    "\n",
    "f = open('test.txt', 'w')\n",
    "f.write(test1)\n",
    "f.close()"
   ]
  },
  {
   "cell_type": "markdown",
   "metadata": {},
   "source": [
    "2.Read the contents of the file test.txt into the variable test2. Is there a difference between test 1\n",
    "and test 2?"
   ]
  },
  {
   "cell_type": "code",
   "execution_count": 14,
   "metadata": {},
   "outputs": [
    {
     "name": "stdout",
     "output_type": "stream",
     "text": [
      "This is a test of the emergency text system\n"
     ]
    }
   ],
   "source": [
    "f = open('test.txt', 'r')\n",
    "test2 = f.read()\n",
    "print(test2)\n",
    "f.close()"
   ]
  },
  {
   "cell_type": "code",
   "execution_count": 15,
   "metadata": {},
   "outputs": [
    {
     "name": "stdout",
     "output_type": "stream",
     "text": [
      "No difference\n"
     ]
    }
   ],
   "source": [
    "if test1 == test2:\n",
    "    print('No difference')"
   ]
  },
  {
   "cell_type": "markdown",
   "metadata": {},
   "source": [
    "3.Create a CSV file called books.csv by using these lines:<br>\n",
    "title,author,year<br>\n",
    "The Weirdstone of Brisingamen,Alan Garner,1960<br>\n",
    "Perdido Street Station,China Miéville,2000<br>\n",
    "Thud!,Terry Pratchett,2005<br>\n",
    "The Spellman Files,Lisa Lutz,2007<br>\n",
    "Small Gods,Terry Pratchett,1992"
   ]
  },
  {
   "cell_type": "code",
   "execution_count": 16,
   "metadata": {},
   "outputs": [],
   "source": [
    "import csv\n",
    "rows = [ ['title','author','year'],\n",
    "    ['The Weirdstone of Brisingamen','Alan Garner',1960],\n",
    "    ['Perdido Street Station','China Miéville',2000],\n",
    "    ['Thud!','Terry Pratchett',2005],\n",
    "    ['The Spellman Files','Lisa Lutz',2007],\n",
    "    ['Small Gods','Terry Pratchett',1992]]\n",
    "\n",
    "with open('books.csv', 'w', newline='') as f:\n",
    "    writer = csv.writer(f)\n",
    "    writer.writerows(rows)"
   ]
  },
  {
   "cell_type": "markdown",
   "metadata": {},
   "source": [
    "4.Use the sqlite3 module to create a SQLite database called books.db, and a table called books with\n",
    "these fields: title (text), author (text), and year (integer)."
   ]
  },
  {
   "cell_type": "code",
   "execution_count": 17,
   "metadata": {},
   "outputs": [
    {
     "data": {
      "text/plain": [
       "<sqlite3.Cursor at 0x1ecd93f9ea0>"
      ]
     },
     "execution_count": 17,
     "metadata": {},
     "output_type": "execute_result"
    }
   ],
   "source": [
    "import sqlite3\n",
    "db = sqlite3.connect(\"books.db\")\n",
    "c = db.cursor()\n",
    "c.execute('CREATE TABLE books(title text, author text, year int)')"
   ]
  },
  {
   "cell_type": "markdown",
   "metadata": {},
   "source": [
    "5.Read books.csv and insert its data into the book table."
   ]
  },
  {
   "cell_type": "code",
   "execution_count": 18,
   "metadata": {},
   "outputs": [
    {
     "data": {
      "text/plain": [
       "[('The Weirdstone of Brisingamen', 'Alan Garner', 1960),\n",
       " ('Perdido Street Station', 'China Miéville', 2000),\n",
       " ('Thud!', 'Terry Pratchett', 2005),\n",
       " ('The Spellman Files', 'Lisa Lutz', 2007),\n",
       " ('Small Gods', 'Terry Pratchett', 1992)]"
      ]
     },
     "execution_count": 18,
     "metadata": {},
     "output_type": "execute_result"
    }
   ],
   "source": [
    "with open(\"books.csv\",\"r\") as f:\n",
    "    reader = csv.reader(f)\n",
    "    for row in reader:\n",
    "        try:\n",
    "            if int(row[2]):\n",
    "                c.execute(f'INSERT INTO books VALUES(\"{row[0]}\", \"{row[1]}\", {int(row[2])})')\n",
    "        except:\n",
    "            pass\n",
    "c.execute('select * from books').fetchall()"
   ]
  },
  {
   "cell_type": "markdown",
   "metadata": {},
   "source": [
    "6.Select and print the title column from the book table in alphabetical order."
   ]
  },
  {
   "cell_type": "code",
   "execution_count": 19,
   "metadata": {},
   "outputs": [
    {
     "data": {
      "text/plain": [
       "[('The Weirdstone of Brisingamen',),\n",
       " ('Perdido Street Station',),\n",
       " ('Thud!',),\n",
       " ('The Spellman Files',),\n",
       " ('Small Gods',)]"
      ]
     },
     "execution_count": 19,
     "metadata": {},
     "output_type": "execute_result"
    }
   ],
   "source": [
    "c.execute('select title from books').fetchall()"
   ]
  },
  {
   "cell_type": "markdown",
   "metadata": {},
   "source": [
    "7.From the book table, select and print all columns in the order of publication."
   ]
  },
  {
   "cell_type": "code",
   "execution_count": 20,
   "metadata": {},
   "outputs": [
    {
     "data": {
      "text/plain": [
       "[('The Weirdstone of Brisingamen', 'Alan Garner', 1960),\n",
       " ('Small Gods', 'Terry Pratchett', 1992),\n",
       " ('Perdido Street Station', 'China Miéville', 2000),\n",
       " ('Thud!', 'Terry Pratchett', 2005),\n",
       " ('The Spellman Files', 'Lisa Lutz', 2007)]"
      ]
     },
     "execution_count": 20,
     "metadata": {},
     "output_type": "execute_result"
    }
   ],
   "source": [
    "c.execute('select * from books order by year').fetchall()"
   ]
  },
  {
   "cell_type": "code",
   "execution_count": 21,
   "metadata": {},
   "outputs": [],
   "source": [
    "db.commit()\n",
    "db.close()"
   ]
  },
  {
   "cell_type": "markdown",
   "metadata": {},
   "source": [
    "8.Use the sqlalchemy module to connect to the sqlite3 database books.db that you just made in\n",
    "exercise 6."
   ]
  },
  {
   "cell_type": "code",
   "execution_count": 22,
   "metadata": {},
   "outputs": [
    {
     "data": {
      "text/plain": [
       "Engine(sqlite:///books.db)"
      ]
     },
     "execution_count": 22,
     "metadata": {},
     "output_type": "execute_result"
    }
   ],
   "source": [
    "from sqlalchemy import create_engine\n",
    "engine = create_engine('sqlite:///books.db')\n",
    "engine"
   ]
  }
 ],
 "metadata": {
  "kernelspec": {
   "display_name": "Python 3.9.7 ('base')",
   "language": "python",
   "name": "python3"
  },
  "language_info": {
   "codemirror_mode": {
    "name": "ipython",
    "version": 3
   },
   "file_extension": ".py",
   "mimetype": "text/x-python",
   "name": "python",
   "nbconvert_exporter": "python",
   "pygments_lexer": "ipython3",
   "version": "3.9.7"
  },
  "orig_nbformat": 4,
  "vscode": {
   "interpreter": {
    "hash": "ab04f8e61828bbd163a587ab9425264e4dde0d8f29fcdd9b827a77050867f641"
   }
  }
 },
 "nbformat": 4,
 "nbformat_minor": 2
}
