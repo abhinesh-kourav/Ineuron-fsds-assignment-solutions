{
 "cells": [
  {
   "cell_type": "markdown",
   "metadata": {},
   "source": [
    "## PYTHON BASIC ASSIGNMENT 22"
   ]
  },
  {
   "cell_type": "markdown",
   "metadata": {},
   "source": [
    "1.What is the result of the code, and explain?\n",
    "```\n",
    "X = 'iNeuron'\n",
    "def func():\n",
    "    print(X)\n",
    "\n",
    "func()\n",
    "```\n",
    "Ans.<br>\n",
    "The result will be <br>\n",
    "`iNeuron`<br>\n",
    "X is a global variable and, hence, can be accessed by the function func()."
   ]
  },
  {
   "cell_type": "markdown",
   "metadata": {},
   "source": [
    "2.What is the result of the code, and explain?\n",
    "```\n",
    "X = 'iNeuron'\n",
    "def func():\n",
    "    X = 'NI!'\n",
    "\n",
    "func()\n",
    "print(X)\n",
    "```\n",
    "Ans.<br>\n",
    "The result will be<br>\n",
    "`iNeuron`<br>\n",
    "Here X = 'NI!' is defined inside the function and hence, it is local to the function itself. The print statement returns the global X value since the print statement is not inside the function."
   ]
  },
  {
   "cell_type": "markdown",
   "metadata": {},
   "source": [
    "3.What does this code print, and why?\n",
    "```\n",
    "X = 'iNeuron'\n",
    "def func():\n",
    "    X = 'NI'\n",
    "    print(X)\n",
    "\n",
    "func()\n",
    "print(X)\n",
    "```\n",
    "Ans. This code prints\n",
    "```\n",
    "NI\n",
    "iNeuron\n",
    "```\n",
    "Since the first print statement is inside the function and the variable X has been updated to 'NI' in the funtion, we get `NI` as the first result when the function is called. The second print statement is outside and it does not get the updated value of X since it was updated locally in the function, therefore, it print the global value of X i.e. `iNeuron`"
   ]
  },
  {
   "cell_type": "markdown",
   "metadata": {},
   "source": [
    "4.What output does this code produce? Why?\n",
    "```\n",
    "X = 'iNeuron'\n",
    "def func():\n",
    "    global X\n",
    "    X = 'NI'\n",
    "\n",
    "func()\n",
    "print(X)\n",
    "```\n",
    "Ans.<br>\n",
    "The output this code produces is<br>\n",
    "`NI`<br>\n",
    "When you use the global keyword, the variable belongs to the global scope and therefore, it can be updated inside the function and the updated value is accessible outside the function."
   ]
  },
  {
   "cell_type": "markdown",
   "metadata": {},
   "source": [
    "5.What about this code—what’s the output, and why?\n",
    "```\n",
    "X = 'iNeuron'\n",
    "def func():\n",
    "    X = 'NI'\n",
    "    def nested():\n",
    "        print(X)\n",
    "    nested()\n",
    "\n",
    "func()\n",
    "print(X)\n",
    "```\n",
    "Ans.<br>\n",
    "For this code, the output is<br>\n",
    "```\n",
    "NI\n",
    "iNeuron\n",
    "```\n",
    "Since the nested function inside func function it can take the locally updated value of X. Therefore, when it is called, it prints `NI`. And, since the global keyword is not used inside func, the second print statement, which is outside the func function will not get the new value of X and therefore, prints `iNeuron`. "
   ]
  },
  {
   "cell_type": "markdown",
   "metadata": {},
   "source": [
    "6.How about this code: what is its output in Python 3, and explain?\n",
    "```\n",
    "def func():\n",
    "    X = 'NI'\n",
    "    def nested():\n",
    "        nonlocal X\n",
    "        X = 'Spam'\n",
    "    nested()\n",
    "    print(X)\n",
    "\n",
    "func()\n",
    "```\n",
    "Ans<br>\n",
    "The output is<br>\n",
    "`Spam`<br>\n",
    "nonlocal keyword ensures the variable `X='Spam'` does not stay local to nested function and, therefore, X gets updated in the outer function i.e., func too."
   ]
  }
 ],
 "metadata": {
  "language_info": {
   "name": "python"
  },
  "orig_nbformat": 4
 },
 "nbformat": 4,
 "nbformat_minor": 2
}
