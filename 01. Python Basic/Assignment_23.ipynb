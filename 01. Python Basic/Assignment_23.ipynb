{
 "cells": [
  {
   "cell_type": "markdown",
   "metadata": {},
   "source": [
    "## PYTHON BASIC ASSIGNMENT 23"
   ]
  },
  {
   "cell_type": "markdown",
   "metadata": {},
   "source": [
    "1.What is the result of the code, and why?<br>\n",
    "Ans."
   ]
  },
  {
   "cell_type": "code",
   "execution_count": 1,
   "metadata": {},
   "outputs": [
    {
     "name": "stdout",
     "output_type": "stream",
     "text": [
      "1 2 8\n"
     ]
    }
   ],
   "source": [
    "def func(a, b=6, c=8):\n",
    "    print(a, b, c)\n",
    "\"\"\"\n",
    "The function is defined with default values of b and c.\n",
    "So, if new values are not passed as arguments when the function is called, it will use the default values.\n",
    "Here, a value for c is not passed, so it uses its default values.\n",
    "\"\"\"\n",
    "func(1, 2)"
   ]
  },
  {
   "cell_type": "markdown",
   "metadata": {},
   "source": [
    "2.What is the result of this code, and why?<br>\n",
    "Ans."
   ]
  },
  {
   "cell_type": "code",
   "execution_count": 2,
   "metadata": {},
   "outputs": [
    {
     "name": "stdout",
     "output_type": "stream",
     "text": [
      "1 2 3\n"
     ]
    }
   ],
   "source": [
    "def func(a, b, c=5):\n",
    "    print(a, b, c)\n",
    "\"\"\"\n",
    "When the function is called, it was given one positional argument and two keyword arguments.\n",
    "Since c and b are given keyword argument, they do not need to be at their specified position.\n",
    "And,since a is passed as positional argument, it needs to given at its correct position as when the function was defined.\n",
    "\"\"\"\n",
    "func(1, c=3, b=2)"
   ]
  },
  {
   "cell_type": "markdown",
   "metadata": {},
   "source": [
    "3.How about this code: what is its result, and why?<br>\n",
    "Ans."
   ]
  },
  {
   "cell_type": "code",
   "execution_count": 3,
   "metadata": {},
   "outputs": [
    {
     "name": "stdout",
     "output_type": "stream",
     "text": [
      "1 (2, 3)\n"
     ]
    }
   ],
   "source": [
    "def func(a, *pargs):\n",
    "    print(a, pargs)\n",
    "\"\"\"\n",
    "*pargs is used here to pass a variable number of arguments to a function.\n",
    "In such arguments, keyword is not needed when function is called.\n",
    "Also, the argument that is passed at first position will be stored in a.\n",
    "The remaining will be stored in pargs as a tuple.\n",
    "\"\"\"\n",
    "func(1, 2, 3)"
   ]
  },
  {
   "cell_type": "markdown",
   "metadata": {},
   "source": [
    "4.What does this code print, and why?<br>\n",
    "Ans."
   ]
  },
  {
   "cell_type": "code",
   "execution_count": 4,
   "metadata": {},
   "outputs": [
    {
     "name": "stdout",
     "output_type": "stream",
     "text": [
      "1 {'c': 3, 'b': 2}\n"
     ]
    }
   ],
   "source": [
    "def func(a, **kargs):\n",
    "    print(a, kargs)\n",
    "\"\"\"\n",
    "**kargs is used here to pass a variable-length argument list.\n",
    "In such arguments, keywords are needed when function is called.\n",
    "Here, any argument except a will be stored in kargs as a dictionary.\n",
    "\"\"\"\n",
    "func(a=1, c=3, b=2)"
   ]
  },
  {
   "cell_type": "markdown",
   "metadata": {},
   "source": [
    "5.What gets printed by this, and explain?<br>\n",
    "Ans."
   ]
  },
  {
   "cell_type": "code",
   "execution_count": 5,
   "metadata": {},
   "outputs": [
    {
     "name": "stdout",
     "output_type": "stream",
     "text": [
      "1 5 6 5\n"
     ]
    }
   ],
   "source": [
    "def func(a, b, c=8, d=5): print(a, b, c, d)\n",
    "\"\"\"\n",
    "'*' is the unpacking operator and are operators that unpack the values from iterable like tuple. \n",
    "Here it unpacks tuple (5,6).\n",
    "After unpacking, the expression will act like func(1,5,6).\n",
    "Therefore, a=1, b=5, c=6 as positional arguments.\n",
    "Since, no value is passed for d argument, so it will take its default value, so, d=5\n",
    "\"\"\"\n",
    "func(1, *(5, 6))"
   ]
  },
  {
   "cell_type": "markdown",
   "metadata": {},
   "source": [
    "6.What is the result of this, and explain?<br>\n",
    "Ans."
   ]
  },
  {
   "cell_type": "code",
   "execution_count": 6,
   "metadata": {},
   "outputs": [
    {
     "data": {
      "text/plain": [
       "(1, ['x'], {'a': 'y'})"
      ]
     },
     "execution_count": 6,
     "metadata": {},
     "output_type": "execute_result"
    }
   ],
   "source": [
    "def func(a, b, c): a = 2; b[0] = 'x'; c['a'] = 'y'\n",
    "    \n",
    "l=1; m=[1]; n={'a':0}\n",
    "func(l, m, n)\n",
    "\"\"\"\n",
    "Here variables l,m,n are passed as the values of arguments a,b,c of func.\n",
    "a is an integer, which means, it is immutable. So, it is not changed inside the function.\n",
    "m and n are list and dictionary, and therefore, they are mutable. They change the value inside the function.\n",
    "\"\"\"\n",
    "l, m, n"
   ]
  }
 ],
 "metadata": {
  "kernelspec": {
   "display_name": "Python 3.9.7 ('base')",
   "language": "python",
   "name": "python3"
  },
  "language_info": {
   "codemirror_mode": {
    "name": "ipython",
    "version": 3
   },
   "file_extension": ".py",
   "mimetype": "text/x-python",
   "name": "python",
   "nbconvert_exporter": "python",
   "pygments_lexer": "ipython3",
   "version": "3.9.7"
  },
  "orig_nbformat": 4,
  "vscode": {
   "interpreter": {
    "hash": "ab04f8e61828bbd163a587ab9425264e4dde0d8f29fcdd9b827a77050867f641"
   }
  }
 },
 "nbformat": 4,
 "nbformat_minor": 2
}
