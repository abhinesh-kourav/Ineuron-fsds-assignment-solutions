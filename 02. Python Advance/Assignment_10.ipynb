{
 "cells": [
  {
   "cell_type": "markdown",
   "metadata": {},
   "source": [
    "## PYTHON ADVANCE ASSIGNMENT 10"
   ]
  },
  {
   "cell_type": "markdown",
   "metadata": {},
   "source": [
    "Q1. What is the difference between `__getattr__` and `__getattribute__`?\n",
    "\n",
    "Ans.<br>\n",
    "`__getattribute__` is called unconditionally to implement attribute accesses for instances of the class.<br>\n",
    "`__getattr__` is called when an attribute lookup has not found the attribute in the usual places. This method returns the (computed) attribute value or raise an AttributeError exception."
   ]
  },
  {
   "cell_type": "markdown",
   "metadata": {},
   "source": []
  },
  {
   "cell_type": "markdown",
   "metadata": {},
   "source": [
    "Q2. What is the difference between properties and descriptors?\n",
    "\n",
    "Ans<br>\n",
    "Descriptors are a low-level mechanism that lets you hook into an object's attributes being accessed. Properties are a high-level application of this; that is, properties are implemented using descriptors."
   ]
  },
  {
   "cell_type": "markdown",
   "metadata": {},
   "source": []
  },
  {
   "cell_type": "markdown",
   "metadata": {},
   "source": [
    "Q3. What are the key differences in functionality between __getattr__ and __getattribute__, as well as\n",
    "properties and descriptors?<br>\n",
    "\n",
    "Ans<br>\n",
    "`__getattribute__` is the hook that enables property (and other descriptors) to work in the first place and is called for all attribute access on an object.<br>\n",
    "`__getattr__` is called by `__getattribute__` when no attribute has been located through other means, as a fallback.<br>\n",
    "Use property for dynamic attributes with a fixed name, __getattr__ for attributes of a more dynamic nature (e.g. a series of attributes that map to values in an algorithmic manner).<br>\n",
    "Descriptors are used when you need to bind arbitrary objects to an instance."
   ]
  }
 ],
 "metadata": {
  "language_info": {
   "name": "python"
  },
  "orig_nbformat": 4
 },
 "nbformat": 4,
 "nbformat_minor": 2
}
